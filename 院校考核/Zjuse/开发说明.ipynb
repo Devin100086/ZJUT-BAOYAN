{
 "cells": [
  {
   "cell_type": "markdown",
   "id": "9adfdad9",
   "metadata": {},
   "source": [
    "# 开发说明"
   ]
  },
  {
   "cell_type": "markdown",
   "id": "e3e386db",
   "metadata": {},
   "source": [
    "## 实训题目\n",
    "本次实训开发分为两个项目，每个项目各占 50 分，另外在项目 1 中使用国产模型会额外加 5 分。 \n",
    "1. 项目1 - 实训案例内容开发：选手基于[案例库](https://imgbed.momodel.cn//img/案例库.xlsx)中题目自由选择题目去完成。\n",
    "\n",
    "2. 项目2 - 大模型应用创意设计：选手基于 AIGC 接口和大模型技术，设计并开发具有创新性和实用性的应用实例。\n",
    "\n",
    "每个项目内容撰写在 `Jupyter Notebook`（以下简称 `notebook`），并以 `Markdown` + `Python` 代码的形式完成内容要求。         \n",
    "其中 `notebook` 代码运行需无错误，文字描述和代码相匹配，内容详实。     \n",
    "\n",
    "\n"
   ]
  },
  {
   "cell_type": "markdown",
   "id": "45feb3ba",
   "metadata": {},
   "source": [
    "<span style='font-size:25px;color:red'>题目完成流程如下：</span>\n",
    "\n",
    "- 根据所提供的账号列表，选择自己所属账号，登录[浙大 Mo 平台](https://mo.zju.edu.cn )并修改密码；  \n",
    "- 进入课程项目《2024 软件学院夏令营》，仔细阅读开发说明；  \n",
    "- 上传自己的数据集，采用挂载的形式将其加入到课程项目中，不允许直接复制到项目中，否则会运行崩溃；  \n",
    "-  `notebook` 中题目名字为案例库中的【案例名称】；   \n",
    "- 尽量使用平台环境中的库，避免进行库的升级；\n",
    "- 进行项目开发；若有多个项目，用文件夹隔离开；  \n",
    "- 项目截止日期为 7 月 14 日晚 24:00  \n"
   ]
  },
  {
   "cell_type": "markdown",
   "id": "8465267c",
   "metadata": {},
   "source": [
    "## 1. 实训要求"
   ]
  },
  {
   "cell_type": "markdown",
   "id": "b0c12dbe",
   "metadata": {},
   "source": [
    "1.  项目1： \n",
    "\n",
    "\n",
    "- 要求依据数据集，进行数据集处理、数据集分析和可视化、模型构建、模型训练、模型评估，实现完整的数据建模流程。    \n",
    "- 数据集来源部分案例库中会提供，如果没有，则需要自己搜集并上传至平台。   \n",
    "- 以上数据处理和建模过程需要撰写结果于课程项目[《2024 软件学院夏令营》](https://mo.zju.edu.cn/classroom/class/66821dfb8772467c3714eae6?&activeKey=section) 中（以下简称 MoZJU 平台），提交格式为 Jupyter Notebook（以下简称 notebook），并以 Markdown + Python 代码的形式完成内容要求。  \n",
    "其中 notebook 代码运行需无错误，文字描述和代码相匹配，内容详实。    \n",
    "- 你可以选择多个项目，最终成绩取最高分。\n",
    "\n"
   ]
  },
  {
   "cell_type": "markdown",
   "id": "ab0d7679",
   "metadata": {},
   "source": [
    "2.  项目2：  \n",
    "\n",
    "\n",
    "- 参赛选手可自由选择任何已有的 AIGC 接口，并结合其他技术资源，设计并开发一个创新的人工智能应用案例。   \n",
    "- 项目需要的形式为 Jupyter Notebook(.ipynb)，撰写结果于课程项目[《2024 软件学院夏令营》](https://mo.zju.edu.cn/classroom/class/66821dfb8772467c3714eae6?&activeKey=section) 中，并以 Markdown + Python 代码的形式完成内容要求。\n",
    "- 内容应包含：\n",
    "    1. 项目概述    \n",
    "      a. 项目名称：给项目一个简明扼要的名称，能够反映出其核心内容。   \n",
    "      b. 项目背景：介绍项目的背景和动机。说明为什么选择这个主题，它的重要性和潜在影响。   \n",
    "    2. 问题陈述    \n",
    "      a. 问题描述：清晰地阐述项目解决的实际问题或挑战。描述这个问题的关键特征和难点。   \n",
    "      b. 目标：明确项目的最终目标和预期成果。这包括期望的性能指标、用户受益等。    \n",
    "    3. 方法和技术    \n",
    "      a. 所采用的百度模型 API 模型：详细说明选用的大模型，包括其类型（如GAN、BERT等）和用途。     \n",
    "      b. 模型训练：如果有除了百度所提供的模型API之外的模型使用，需要描述模型的训练方法，包括所用数据集、训练步骤、超参数等，如果有对模型进行优化的方法，需要详细说明。    \n",
    "      c. 原型设计：数据、算法与交互流程，以及调用百度模型 API 的代码示范展示和说明。    \n",
    "    4. 应用场景    \n",
    "      a. 目标用户群体：描述项目的目标用户是谁，以及他们的需求。     \n",
    "      b. 应用领域：说明项目在哪些领域可以得到应用，以及其潜在市场。    \n",
    "    5. 创新之处    \n",
    "      a. 项目的独特性：说明项目相较于现有解决方案的独特之处，包括技术上的创新、用户体验等。    \n",
    "    6. 附录：    \n",
    "        包括任何额外的支持材料，如示意图、算法流程图等。    \n",
    "        \n",
    "- 注意在调用 AIGC 接口时，需要使用 API KEY 用于身份验证和授权，为避免泄露选手个人的 key，选手运行出结果后可以删除 key或使用环境变量等方式，但要在代码中注明。     \n",
    "\n",
    "- 参考课程资料[动手学大模型应用开发](https://momodel.cn/classroom/class/658e2e7b891ad518e0274bd7?activeKey=section)"
   ]
  },
  {
   "cell_type": "markdown",
   "id": "15d65f08",
   "metadata": {
    "toc-hr-collapsed": false
   },
   "source": [
    "## 2. 项目 1 评分细则"
   ]
  },
  {
   "cell_type": "markdown",
   "id": "b0e36dca",
   "metadata": {},
   "source": [
    "评分分为以下五个部分进行，每个部分考察代码运行和文字描述两个方面。\n",
    "\n",
    "代码运行方面要求 notebook 在 MoZJU 平台运行无误不报错，模型训练脚本在GPU job训练中成功运行并保存权重结果；    \n",
    "文字描述方面要求 notebook 中文字内容详实准确，能够准确描述代码实现功能，并尽可能从多个角度分析数据集特征和评估模型表现。"
   ]
  },
  {
   "cell_type": "markdown",
   "id": "819f6158",
   "metadata": {
    "toc-hr-collapsed": true
   },
   "source": [
    "### 2.1 数据集准备（5分）"
   ]
  },
  {
   "cell_type": "markdown",
   "id": "8081a98d",
   "metadata": {},
   "source": [
    "#### 2.1.1 自建数据集\n",
    "\n",
    "选手准备的数据集需要在 MoZJU 平台的工作台中，自行新建数据集：\n",
    "\n",
    "- 【1】进入工作台\n",
    "<div class='insertContainerBox column'>\n",
    "<div class='insertItem' align=center><img src=\"https://imgbed.momodel.cn//20230703172524.png\" width=\"900px\"/></div>\n",
    "</div>\n",
    "\n",
    "- 【2】新建数据集\n",
    "<div class='insertContainerBox column'>\n",
    "<div class='insertItem' align=center><img src=\"https://imgbed.momodel.cn//20230703172609.png\" width=\"900px\"/></div>\n",
    "</div>\n",
    "\n",
    "- 【3】填写数据集基本信息\n",
    "<div class='insertContainerBox column'>\n",
    "<div class='insertItem' align=center><img src=\"https://imgbed.momodel.cn//20230703172810.png\" width=\"500px\"/></div>\n",
    "</div>\n",
    "\n",
    "- 【4】上传数据集，建议使用压缩包形式，上传后可以在线解压\n",
    "<div class='insertContainerBox column'>\n",
    "<div class='insertItem' align=center><img src=\"https://imgbed.momodel.cn//20230703173224.png\" width=\"900px\"/></div>\n",
    "</div>\n",
    "\n",
    "\n",
    "<div class='insertContainerBox column'>\n",
    "<div class='insertItem' align=center><img src=\"https://imgbed.momodel.cn//20230703175352.png\" width=\"900px\"/></div>\n",
    "</div>"
   ]
  },
  {
   "cell_type": "markdown",
   "id": "c7cd2c50",
   "metadata": {},
   "source": [
    "#### 2.1.2 数据集挂载\n",
    "选手需要进行数据集的准备工作，并展示其中一部分数据集内容，该部分只考察代码运行方面。  \n",
    "数据集通过左侧数据集栏搜索加载。\n",
    "\n",
    "- 选择自己创建的数据集，需要在我的数据集页面进行导入（不可以直接将数据集复制到项目中运行）\n",
    "<div class='insertContainerBox column'>\n",
    "<div class='insertItem' align=center><img src=\"https://imgbed.momodel.cn//20230703180007.png\" width=\"600px\"/></div>\n",
    "</div>\n",
    "\n"
   ]
  },
  {
   "cell_type": "markdown",
   "id": "23dc92fa",
   "metadata": {},
   "source": [
    "结构化数据需要展示前五行；图片数据需要展示其中五张图片；文字数据需要打印其中五条文字数据。  \n",
    "\n",
    "该部分总分数为5分，如果项目 1 中不需要使用数据集，该部分专家会根据项目完成情况及项目难度进行打分。"
   ]
  },
  {
   "cell_type": "markdown",
   "id": "049615e5",
   "metadata": {},
   "source": [
    "### 2.2 数据集分析和可视化（10分）\n",
    "选手需要对数据集进行分析，分析内容包括切不限于数据集大小，数据集统计信息等（平均数、中位数、分布情况、缺失值情况等），并将部分分析结果进行可视化展示，展示方式包括且不限于统计图像，词云图等。  \n",
    "\n",
    "该部分总分数为10分，如果项目 1 中不需要使用数据集，该部分专家会根据项目完成情况及项目难度进行打分。"
   ]
  },
  {
   "cell_type": "markdown",
   "id": "fa70b8b6",
   "metadata": {},
   "source": [
    "### 2.3 模型构建（15分+5分）\n",
    "选手需要利用数据集构建模型，模型需要使用 Tensorflow / Pytorch / MindSpore / PaddlePaddle 四种框架之一进行构建，不得使用预训练模型。    \n",
    "\n",
    "**如果使用国产模型会有额外的5分加分。**   \n",
    "\n",
    "构建后需要展示模型结构，展示方式包括且不限于notebook内树形结构展示、树形结构图像展示以及普通文字描述展示。同时，选手需要说明为何选用该模型构建方式。  \n",
    "\n",
    "该部分总分数为15分+5分加分。"
   ]
  },
  {
   "cell_type": "markdown",
   "id": "ae5cbb2e",
   "metadata": {},
   "source": [
    "### 2.4 模型训练（5分）\n",
    "选手需要利用 GPU Job 进行模型训练，需要提供模型训练脚本（ Python 文件）和模型权重。  \n",
    "训练完成后，在 notebook 中需加载模型进行推理，并展示推理结果。同时，选手需要说明模型推理结果正确与否。  \n",
    "\n",
    "该部分总分数为5分。"
   ]
  },
  {
   "cell_type": "markdown",
   "id": "c441b21b",
   "metadata": {},
   "source": [
    "### 2.5 模型评估（15分）\n",
    "选手需要对上述模型的表现进行评估，评估方式包括且不限于`Accuracy`、`MSE`、`FPS`等等。同时，选手需要提出模型采用该指标的原因，改进方向等。  \n",
    "\n",
    "该部分总分数为15分。\n"
   ]
  },
  {
   "cell_type": "markdown",
   "id": "5265b643",
   "metadata": {},
   "source": [
    "## 3. 项目 2 评分细则\n",
    "评分分为以下四个部分进行，主要考察代码运行和文字描述两个方面。\n",
    "\n",
    "代码运行方面要求 notebook 在 MoZJU 平台运行无误不报错，可调用API使用；   \n",
    "文字描述方面要求 notebook 中文字内容详实准确，应按照项目2实训要求完成。"
   ]
  },
  {
   "cell_type": "markdown",
   "id": "faa7a645",
   "metadata": {},
   "source": [
    "1. 创新性（10分）\n",
    "\n",
    "评估项目是否具有独特、新颖的思路和方法。   \n",
    "是否采用了先进的 AI 技术或模型？   \n",
    "项目的创新性对解决实际问题有何显著贡献？   \n",
    "\n",
    "2. 实用性（10分）\n",
    " \n",
    "说明项目的实际应用场景和潜在商业价值。     \n",
    "分析项目对用户、行业或社会的影响和意义。  \n",
    "3. 技术难度（15分）\n",
    "\n",
    "评估项目所涉及的技术难点和挑战。   \n",
    "考察项目的技术解决方案的创造性和复杂程度。\n",
    "4. 完整性（15分）\n",
    "\n",
    "文档内容（5分）：描述项目的整体设计思路、功能模块等。   \n",
    "源代码（10分）：评估代码质量、结构清晰度、注释等。    "
   ]
  },
  {
   "cell_type": "markdown",
   "id": "5554dbe8",
   "metadata": {},
   "source": [
    "## 4. 项目结构"
   ]
  },
  {
   "cell_type": "markdown",
   "id": "ecd1a4db",
   "metadata": {},
   "source": [
    "```\n",
    "├─项目1-实训案例内容开发\n",
    "│      main.ipynb  # 这个是主notebook文件\n",
    "│      train.py    # 这个是模型训练 Python 脚本\n",
    "│      model       # 这个是模型权重\n",
    "│      others      # 其他文件\n",
    "│      ReadMe.md   # 该项目的说明文档，包括数据集的路径，文件结构等必要说明\n",
    "├─项目2-大模型应用创意设计\n",
    "│      main.ipynb  # 这个是主notebook文件\n",
    "│      others      # 其他文件\n",
    "│      ReadMe.md   # 该项目的说明文档，包括数据集的路径，文件结构等必要说明\n",
    "```"
   ]
  },
  {
   "cell_type": "code",
   "execution_count": null,
   "id": "02ff4069",
   "metadata": {},
   "outputs": [],
   "source": []
  }
 ],
 "metadata": {
  "kernelspec": {
   "display_name": "Python 3",
   "language": "python",
   "name": "python3"
  },
  "language_info": {
   "codemirror_mode": {
    "name": "ipython",
    "version": 3
   },
   "file_extension": ".py",
   "mimetype": "text/x-python",
   "name": "python",
   "nbconvert_exporter": "python",
   "pygments_lexer": "ipython3",
   "version": "3.9.5"
  }
 },
 "nbformat": 4,
 "nbformat_minor": 5
}
